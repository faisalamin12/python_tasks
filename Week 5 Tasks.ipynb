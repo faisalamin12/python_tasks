{
 "cells": [
  {
   "cell_type": "markdown",
   "metadata": {},
   "source": [
    "Write a python program and extract data from a dictionary according to given output.\n",
    "people = {1:{\"shadu\":\"nagin\", \"gender\":\"Male\"}\n",
    "          2:{\"Arqam\":\"naag\",\"gender\":\"Male\" }}\n",
    "\n",
    "output: naag\n",
    "        Male"
   ]
  },
  {
   "cell_type": "code",
   "execution_count": 6,
   "metadata": {},
   "outputs": [
    {
     "name": "stdout",
     "output_type": "stream",
     "text": [
      "naag Male\n"
     ]
    }
   ],
   "source": [
    "people = {1:{\"shadu\":\"nagin\", \"gender\":\"Male\"},\n",
    "          2:{\"Arqam\":\"naag\",\"gender\":\"Male\" }}\n",
    "\n",
    "print(people[2][\"Arqam\"] , end = \" \" )\n",
    "print(people[2][\"gender\"])\n"
   ]
  },
  {
   "cell_type": "markdown",
   "metadata": {},
   "source": [
    "How to itrate on above dictionary and get expected output.\n",
    "\n",
    "output: people_1 id:\n",
    "        shadu : nagin\n",
    "        gender: Male\n",
    "        \n",
    "        people_2 id:\n",
    "        Arqam : naag\n",
    "        gender: Male\n",
    "        "
   ]
  },
  {
   "cell_type": "code",
   "execution_count": 13,
   "metadata": {},
   "outputs": [
    {
     "name": "stdout",
     "output_type": "stream",
     "text": [
      "People id\n",
      "shadu nagin\n",
      "gender male\n",
      "People id_2\n",
      "Arqam Naag\n",
      "gender Male\n"
     ]
    }
   ],
   "source": [
    "people = {\"id\":{\"shadu\": \"nagin\", \"gender\": \"male\"}, \"id_2\":{\"Arqam\": \"Naag\" , \"gender\": \"Male\"}}\n",
    "\n",
    "\n",
    "for i , j in people.items():\n",
    "    print(\"People\",i)\n",
    "    for k , l in j.items():\n",
    "        print(k,l)"
   ]
  },
  {
   "cell_type": "markdown",
   "metadata": {},
   "source": [
    "Write a secret word in your program and user guesses a word. if it is, the game finishes. if it is not equal, ask the user to play again and count the number of times that user made guess."
   ]
  },
  {
   "cell_type": "code",
   "execution_count": 16,
   "metadata": {},
   "outputs": [
    {
     "name": "stdout",
     "output_type": "stream",
     "text": [
      "Guess the secret wordhammad\n",
      "Guess the secret wordfaisal\n",
      "Guess the secret wordshadu\n",
      "Guess the secret wordpython\n",
      "You won!\n",
      "4\n"
     ]
    }
   ],
   "source": [
    "secret = \"python\"\n",
    "\n",
    "guess_sec = str(input(\"Guess the secret word: \"))\n",
    "\n",
    "count = 0\n",
    "\n",
    "guess_pick = True\n",
    "\n",
    "while guess_pick == True:\n",
    "    if guess_sec.lower() == secret:\n",
    "        count = count + 1\n",
    "        guess_pick = False\n",
    "        print(\"You won!\")\n",
    "        print(count)\n",
    "        break\n",
    "    else:\n",
    "        count =  count + 1\n",
    "        guess_sec = str(input(\"Guess the secret word\"))\n",
    "        \n",
    "        \n",
    "        "
   ]
  },
  {
   "cell_type": "markdown",
   "metadata": {},
   "source": [
    "write a program that takes input from user in the form of text and count the space."
   ]
  },
  {
   "cell_type": "code",
   "execution_count": 19,
   "metadata": {},
   "outputs": [
    {
     "name": "stdout",
     "output_type": "stream",
     "text": [
      "Write any sentence: Keep it up\n",
      "2\n"
     ]
    }
   ],
   "source": [
    "sentence = str(input(\"Write any sentence: \"))\n",
    "count_spaces = 0\n",
    "for i in sentence:\n",
    "    if i == \" \":\n",
    "        count_spaces = count_spaces + 1\n",
    "print(count_spaces)"
   ]
  },
  {
   "cell_type": "markdown",
   "metadata": {},
   "source": [
    "Write a python program that print the sum of first 5 integer number."
   ]
  },
  {
   "cell_type": "code",
   "execution_count": 25,
   "metadata": {},
   "outputs": [
    {
     "name": "stdout",
     "output_type": "stream",
     "text": [
      "15\n"
     ]
    }
   ],
   "source": [
    "my_range = list(range(1,6))\n",
    "print(sum(my_range))"
   ]
  },
  {
   "cell_type": "code",
   "execution_count": null,
   "metadata": {},
   "outputs": [],
   "source": []
  }
 ],
 "metadata": {
  "kernelspec": {
   "display_name": "Python 3",
   "language": "python",
   "name": "python3"
  },
  "language_info": {
   "codemirror_mode": {
    "name": "ipython",
    "version": 3
   },
   "file_extension": ".py",
   "mimetype": "text/x-python",
   "name": "python",
   "nbconvert_exporter": "python",
   "pygments_lexer": "ipython3",
   "version": "3.7.3"
  }
 },
 "nbformat": 4,
 "nbformat_minor": 2
}
