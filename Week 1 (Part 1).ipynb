{
 "cells": [
  {
   "cell_type": "markdown",
   "metadata": {},
   "source": [
    "# Exercise # 1 :\n",
    "\n",
    "Take two int values from user and print greatest among them."
   ]
  },
  {
   "cell_type": "code",
   "execution_count": 6,
   "metadata": {},
   "outputs": [
    {
     "name": "stdout",
     "output_type": "stream",
     "text": [
      "Enter a number: 4\n",
      "Enter Second Number: 6\n",
      "6 is greater than 4\n"
     ]
    }
   ],
   "source": [
    "a = int(input(\"Enter a number: \"))\n",
    "b = int(input(\"Enter Second Number: \"))\n",
    "\n",
    "if a > b:\n",
    "    print(\"{} is greater than {}\".format(a,b))\n",
    "else:\n",
    "    print(\"{} is greater than {}\".format(b,a))\n",
    "\n",
    "    \n",
    "\n"
   ]
  },
  {
   "cell_type": "markdown",
   "metadata": {},
   "source": [
    "# Exercise # 2:\n",
    "\n",
    "Take input of age of 3 people by user and determine oldest among them.\n"
   ]
  },
  {
   "cell_type": "code",
   "execution_count": 41,
   "metadata": {},
   "outputs": [
    {
     "name": "stdout",
     "output_type": "stream",
     "text": [
      "Enter First Age: 22\n",
      "Enter Second Age: 21\n",
      "Enter Third Age: 26\n",
      "26 is oldest\n"
     ]
    }
   ],
   "source": [
    "age1 = int(input(\"Enter First Age: \"))\n",
    "age2 = int(input(\"Enter Second Age: \"))\n",
    "age3 = int(input(\"Enter Third Age: \"))\n",
    "\n",
    "if age1 > age2 and age1 > age3:\n",
    "    print(\"{} is oldest\".format(age1))\n",
    "elif age2 > age1 and age2 > age3:\n",
    "    print(\"{} is oldest\".format(age2))\n",
    "else:\n",
    "    print(\"{} is oldest\".format(age3))\n",
    "    "
   ]
  },
  {
   "cell_type": "markdown",
   "metadata": {},
   "source": [
    "# Exercise 3: \n",
    "\n",
    "Take values of length and breadth of a rectangle from user and check if it is \n",
    "square or not."
   ]
  },
  {
   "cell_type": "code",
   "execution_count": 7,
   "metadata": {},
   "outputs": [
    {
     "name": "stdout",
     "output_type": "stream",
     "text": [
      "Enter the Length of the shape: 12\n",
      "Enter the breadth of the shape: 12\n",
      "it is a suqare\n"
     ]
    }
   ],
   "source": [
    "length = int(input(\"Enter the Length of the shape: \"))\n",
    "breadth = int(input(\"Enter the breadth of the shape: \"))\n",
    "\n",
    "if length == breadth:\n",
    "    print(\"it is a suqare\")\n",
    "else:\n",
    "    print(\"it is not  a suqare\")\n"
   ]
  },
  {
   "cell_type": "markdown",
   "metadata": {},
   "source": [
    "# Exercise # 4:\n",
    "\n",
    "A shop will give discount of 10% if the cost of purchased quantity is more than 1000. Ask user for quantity Suppose, one unit will cost 100. \n",
    "Judge and print total cost for user."
   ]
  },
  {
   "cell_type": "code",
   "execution_count": 40,
   "metadata": {},
   "outputs": [
    {
     "name": "stdout",
     "output_type": "stream",
     "text": [
      "Enter Qunatity: 2\n",
      "Your Bill 200\n"
     ]
    }
   ],
   "source": [
    "quantity = int(input(\"Enter Qunatity: \"))\n",
    "\n",
    "total_price = 100 * quantity\n",
    "\n",
    "\n",
    "if total_price > 1000:\n",
    "    total_price = total_price * 0.9\n",
    "    print(\"Your Bill {}\".format(total_price))\n",
    "else:\n",
    "    print(\"Your Bill {}\".format(total_price))"
   ]
  },
  {
   "cell_type": "markdown",
   "metadata": {},
   "source": [
    "# Exercise # 5:\n",
    "\n",
    "\n",
    "A company decided to give bonus of 5% to employee if his/her year of service is\n",
    "more than 5 years. Ask user for their salary and year of service and\n",
    "print the net bonus amount."
   ]
  },
  {
   "cell_type": "code",
   "execution_count": 47,
   "metadata": {},
   "outputs": [
    {
     "name": "stdout",
     "output_type": "stream",
     "text": [
      "Enter years of service: 2\n",
      "Your Salary is: 10000\n"
     ]
    }
   ],
   "source": [
    "year_of_service = int(input(\"Enter years of service: \"))\n",
    "salary = 10000\n",
    "\n",
    "if year_of_service > 5:\n",
    "    bonus = 0.5 * salary\n",
    "    salary = bonus + salary \n",
    "    print(\"You got Bonus of 5% Your salary is: {}\".format(salary))\n",
    "else:\n",
    "    print(\"Your Salary is: {}\".format(salary))"
   ]
  },
  {
   "cell_type": "markdown",
   "metadata": {},
   "source": [
    "# Exercise # 6:\n",
    "A school has following rules for grading system:\n",
    "\n",
    "a. Below 25 - F\n",
    "\n",
    "b. 25 to 45 - E\n",
    "\n",
    "c. 45 to 50 - D\n",
    "\n",
    "d. 50 to 60 - C\n",
    "\n",
    "e. 60 to 80 - B\n",
    "\n",
    "f. Above 80 - A\n",
    "\n",
    "Ask user to enter marks and print the corresponding grade."
   ]
  },
  {
   "cell_type": "code",
   "execution_count": 6,
   "metadata": {},
   "outputs": [
    {
     "name": "stdout",
     "output_type": "stream",
     "text": [
      "Enter English Marks: 90\n",
      "Enter Maths Marks: 88\n",
      "Enter Science Marks: 87\n",
      "Enter Sindhi Marks: 88\n",
      "Enter Pak Studies Marks: 90\n",
      "Grade A\n",
      "Percentage :  88.6\n"
     ]
    }
   ],
   "source": [
    "english = int(input(\"Enter English Marks: \"))\n",
    "maths =   int(input(\"Enter Maths Marks: \"))\n",
    "science = int(input(\"Enter Science Marks: \"))\n",
    "sindhi = int(input(\"Enter Sindhi Marks: \"))\n",
    "pak_studies = int(input(\"Enter Pak Studies Marks: \"))\n",
    "total = english + maths + science + pak_studies + sindhi\n",
    "\n",
    "percentage = (total/500)*100\n",
    "\n",
    "if percentage < 25:\n",
    "    print(\"Grade F\")\n",
    "\n",
    "elif percentage >= 25 and percentage < 45:\n",
    "    print(\"grade E\")\n",
    "\n",
    "elif percentage >= 45 and percentage < 50:\n",
    "    print(\"Grade D\")\n",
    "\n",
    "elif percentage >= 50 and percentage < 60:\n",
    "    print(\"Grade C\")\n",
    "\n",
    "elif percentage >= 60 and percentage < 80:\n",
    "    print(\"Grade B\")\n",
    "elif percentage >= 80:\n",
    "    print(\"Grade A\")\n",
    "\n",
    "    \n",
    "print(\"Percentage : \", percentage)"
   ]
  },
  {
   "cell_type": "markdown",
   "metadata": {},
   "source": [
    "# Exercise # 7:\n",
    "\n",
    "Write a program to print absolute vlaue of a number entered by user."
   ]
  },
  {
   "cell_type": "code",
   "execution_count": 9,
   "metadata": {},
   "outputs": [
    {
     "name": "stdout",
     "output_type": "stream",
     "text": [
      "Enter a number: 2\n",
      "2\n"
     ]
    }
   ],
   "source": [
    "num = int(input(\"Enter a number: \"))\n",
    "\n",
    "if num <0:\n",
    "    print(num*-1)\n",
    "else:\n",
    "    print(num)"
   ]
  },
  {
   "cell_type": "markdown",
   "metadata": {},
   "source": [
    "# Exercise # 8:\n",
    "A student will not be allowed to sit in exam if his/her attendence is less than\n",
    "75%. Take following input from user Number of classes\n",
    "held Number of classes attended. And print \n",
    "percentage of class attended Is student is allowed to sit in exam or not."
   ]
  },
  {
   "cell_type": "code",
   "execution_count": 13,
   "metadata": {},
   "outputs": [
    {
     "name": "stdout",
     "output_type": "stream",
     "text": [
      "Number of classes held: 25\n",
      "Number of classes attended: 21\n",
      "84.0\n",
      "You are ALLOWED to sit in the exam\n"
     ]
    }
   ],
   "source": [
    "number_of_classes_held = int(input(\"Number of classes held: \"))\n",
    "number_of_classes_attended = int(input(\"Number of classes attended: \"))\n",
    "\n",
    "percentage_of_classes_attended = (number_of_classes_attended/number_of_classes_held)*100\n",
    "print(percentage_of_classes_attended)\n",
    "\n",
    "if percentage_of_classes_attended >= 75:\n",
    "    print(\"You are ALLOWED to sit in the exam\")\n",
    "else:\n",
    "    print(\"You are NOT ALLOWED to sit in the exam\")"
   ]
  },
  {
   "cell_type": "code",
   "execution_count": 18,
   "metadata": {},
   "outputs": [
    {
     "name": "stdout",
     "output_type": "stream",
     "text": [
      "Number of classes held: 25\n",
      "Number of classes attended: 10\n",
      "Do you have Medical Cause: y/n: n\n",
      "You are NOT ALLOWED to sit in the exam\n"
     ]
    }
   ],
   "source": [
    "number_of_classes_held = int(input(\"Number of classes held: \"))\n",
    "number_of_classes_attended = int(input(\"Number of classes attended: \"))\n",
    "medical_cause = input(\"Do you have Medical Cause: y/n: \")\n",
    "\n",
    "percentage_of_classes_attended = (number_of_classes_attended/number_of_classes_held)*100\n",
    "\n",
    "if percentage_of_classes_attended >= 75:\n",
    "    print(\"You are ALLOWED to sit in the exam\")\n",
    "\n",
    "\n",
    "elif percentage_of_classes_attended < 75 and medical_cause == \"y\":\n",
    "        print(\"You are  ALLOWED to sit in the exam\")\n",
    "\n",
    "elif percentage_of_classes_attended < 75 and medical_cause == \"n\":\n",
    "    print(\"You are NOT ALLOWED to sit in the exam\")"
   ]
  },
  {
   "cell_type": "code",
   "execution_count": null,
   "metadata": {},
   "outputs": [],
   "source": []
  }
 ],
 "metadata": {
  "kernelspec": {
   "display_name": "Python 3",
   "language": "python",
   "name": "python3"
  },
  "language_info": {
   "codemirror_mode": {
    "name": "ipython",
    "version": 3
   },
   "file_extension": ".py",
   "mimetype": "text/x-python",
   "name": "python",
   "nbconvert_exporter": "python",
   "pygments_lexer": "ipython3",
   "version": "3.7.3"
  }
 },
 "nbformat": 4,
 "nbformat_minor": 2
}
