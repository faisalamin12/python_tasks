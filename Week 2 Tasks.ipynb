{
 "cells": [
  {
   "cell_type": "markdown",
   "metadata": {},
   "source": [
    "Q1) Write a Python program to sum all the items in a list"
   ]
  },
  {
   "cell_type": "code",
   "execution_count": 2,
   "metadata": {},
   "outputs": [
    {
     "name": "stdout",
     "output_type": "stream",
     "text": [
      "Sum of All Elements:  21\n"
     ]
    }
   ],
   "source": [
    "list_1 = [1,2,4,6,8]\n",
    "sum_of_all_elements = 0\n",
    "\n",
    "for i in list_1:\n",
    "    sum_of_all_elements +=i\n",
    "\n",
    "print(\"Sum of All Elements: \",sum_of_all_elements)"
   ]
  },
  {
   "cell_type": "markdown",
   "metadata": {},
   "source": [
    "Q2) Write a Python program to multiplies all the items in a list"
   ]
  },
  {
   "cell_type": "code",
   "execution_count": 4,
   "metadata": {},
   "outputs": [
    {
     "name": "stdout",
     "output_type": "stream",
     "text": [
      "Multiple of All elements: 384\n"
     ]
    }
   ],
   "source": [
    "list_1 = [1,2,4,6,8]\n",
    "multiple_of_all_elements = 1\n",
    "\n",
    "for i in list_1:\n",
    "    multiple_of_all_elements *= i\n",
    "print(\"Multiple of All elements:\",multiple_of_all_elements)"
   ]
  },
  {
   "cell_type": "markdown",
   "metadata": {},
   "source": [
    "Q3) Write a Python program to copy a list.\n"
   ]
  },
  {
   "cell_type": "code",
   "execution_count": 6,
   "metadata": {},
   "outputs": [
    {
     "name": "stdout",
     "output_type": "stream",
     "text": [
      "Orignal List:  [1, 2, 4, 6, 8]\n",
      "Copy List:  [1, 2, 4, 6, 8]\n"
     ]
    }
   ],
   "source": [
    "orignal_list = [1,2,4,6,8]\n",
    "copy_list = orignal_list.copy()\n",
    "print(\"Orignal List: \", orignal_list)\n",
    "print(\"Copy List: \",copy_list)\n"
   ]
  },
  {
   "cell_type": "markdown",
   "metadata": {},
   "source": [
    "Q4) Write a Python program to remove 1st 3rd and 5th element from a list and \n",
    "return the list"
   ]
  },
  {
   "cell_type": "code",
   "execution_count": 12,
   "metadata": {},
   "outputs": [
    {
     "name": "stdout",
     "output_type": "stream",
     "text": [
      "[2, 6]\n"
     ]
    }
   ],
   "source": [
    "list_1 = [1,2,4,6,8]\n",
    "list_1.remove(1)\n",
    "list_1.remove(4)\n",
    "list_1.remove(8)\n",
    "print(list_1)\n",
    "\n",
    "\n"
   ]
  },
  {
   "cell_type": "markdown",
   "metadata": {},
   "source": [
    "\n",
    "Q5) \n",
    "Write a python program to take index from user and remove that element from list"
   ]
  },
  {
   "cell_type": "code",
   "execution_count": 3,
   "metadata": {},
   "outputs": [
    {
     "name": "stdout",
     "output_type": "stream",
     "text": [
      "Enter Index No which you want to delete: 1\n",
      "Before Delete:  [1, 2, 4, 6, 8]\n",
      "After Delete:  [1, 4, 6, 8]\n"
     ]
    }
   ],
   "source": [
    "list_1 = [1,2,4,6,8]\n",
    "index_no = int(input(\"Enter Index No which you want to delete: \"))\n",
    "print(\"Before Delete: \",list_1)\n",
    "list_1.pop(index_no)\n",
    "print(\"After Delete: \",list_1)\n"
   ]
  },
  {
   "cell_type": "markdown",
   "metadata": {},
   "source": [
    "Q6) Given a Python list. Turn every item of a list into its square"
   ]
  },
  {
   "cell_type": "code",
   "execution_count": 4,
   "metadata": {},
   "outputs": [
    {
     "name": "stdout",
     "output_type": "stream",
     "text": [
      "Orignal List:  [1, 2, 4, 6, 8]\n",
      "Squared List: [1, 4, 16, 36, 64]\n"
     ]
    }
   ],
   "source": [
    "list_1 = [1,2,4,6,8]\n",
    "\n",
    "list_square =[]\n",
    "\n",
    "for i in list_1:\n",
    "    list_square.append(i*i)\n",
    "    \n",
    "print(\"Orignal List: \",list_1)\n",
    "print(\"Squared List:\",list_square)"
   ]
  },
  {
   "cell_type": "markdown",
   "metadata": {},
   "source": [
    "Q7) Given a Python list, find value 20 in the list, and if it is present, \n",
    "replace it with 200.\n",
    "\n",
    "\n",
    "list1 = [5, 10, 15, 20, 25, 50, 20]"
   ]
  },
  {
   "cell_type": "code",
   "execution_count": 8,
   "metadata": {},
   "outputs": [
    {
     "name": "stdout",
     "output_type": "stream",
     "text": [
      "[5, 10, 15, 200, 25, 50, 200]\n"
     ]
    }
   ],
   "source": [
    "list1 = [5, 10, 15, 20, 25, 50, 20]\n",
    "\n",
    "for i in list1:\n",
    "    if i == 20:\n",
    "        index_no = list1.index(i)\n",
    "        list1[index_no]= 200\n",
    "print(list1)"
   ]
  },
  {
   "cell_type": "markdown",
   "metadata": {},
   "source": [
    "Q8) Given a Python list you should be able to display Python list in the following order\n",
    "\n",
    "List1 = ['e', 'a', 'u', 'o', 'i']\n",
    "\n",
    "expected output = ['a', 'e', 'i', 'o', 'u']"
   ]
  },
  {
   "cell_type": "code",
   "execution_count": 9,
   "metadata": {},
   "outputs": [
    {
     "name": "stdout",
     "output_type": "stream",
     "text": [
      "Before Sort:  ['e', 'a', 'u', 'o', 'i']\n",
      "After Sort:  ['a', 'e', 'i', 'o', 'u']\n"
     ]
    }
   ],
   "source": [
    "List1 = ['e', 'a', 'u', 'o', 'i']\n",
    "print(\"Before Sort: \", List1)\n",
    "List1.sort()\n",
    "print(\"After Sort: \", List1)\n"
   ]
  },
  {
   "cell_type": "code",
   "execution_count": null,
   "metadata": {},
   "outputs": [],
   "source": []
  }
 ],
 "metadata": {
  "kernelspec": {
   "display_name": "Python 3",
   "language": "python",
   "name": "python3"
  },
  "language_info": {
   "codemirror_mode": {
    "name": "ipython",
    "version": 3
   },
   "file_extension": ".py",
   "mimetype": "text/x-python",
   "name": "python",
   "nbconvert_exporter": "python",
   "pygments_lexer": "ipython3",
   "version": "3.7.3"
  }
 },
 "nbformat": 4,
 "nbformat_minor": 2
}
