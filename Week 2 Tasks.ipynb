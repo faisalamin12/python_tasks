{
 "cells": [
  {
   "cell_type": "markdown",
   "metadata": {},
   "source": [
    "Q1) Write a Python program to sum all the items in a list"
   ]
  },
  {
   "cell_type": "code",
   "execution_count": 2,
   "metadata": {},
   "outputs": [
    {
     "name": "stdout",
     "output_type": "stream",
     "text": [
      "Sum of All Elements:  21\n"
     ]
    }
   ],
   "source": [
    "list_1 = [1,2,4,6,8]\n",
    "sum_of_all_elements = 0\n",
    "\n",
    "for i in list_1:\n",
    "    sum_of_all_elements +=i\n",
    "\n",
    "print(\"Sum of All Elements: \",sum_of_all_elements)"
   ]
  },
  {
   "cell_type": "markdown",
   "metadata": {},
   "source": [
    "Q2) Write a Python program to multiplies all the items in a list"
   ]
  },
  {
   "cell_type": "code",
   "execution_count": 4,
   "metadata": {},
   "outputs": [
    {
     "name": "stdout",
     "output_type": "stream",
     "text": [
      "Multiple of All elements: 384\n"
     ]
    }
   ],
   "source": [
    "list_1 = [1,2,4,6,8]\n",
    "multiple_of_all_elements = 1\n",
    "\n",
    "for i in list_1:\n",
    "    multiple_of_all_elements *= i\n",
    "print(\"Multiple of All elements:\",multiple_of_all_elements)"
   ]
  },
  {
   "cell_type": "markdown",
   "metadata": {},
   "source": [
    "Q3) Write a Python program to copy a list.\n"
   ]
  },
  {
   "cell_type": "code",
   "execution_count": 6,
   "metadata": {},
   "outputs": [
    {
     "name": "stdout",
     "output_type": "stream",
     "text": [
      "Orignal List:  [1, 2, 4, 6, 8]\n",
      "Copy List:  [1, 2, 4, 6, 8]\n"
     ]
    }
   ],
   "source": [
    "orignal_list = [1,2,4,6,8]\n",
    "copy_list = orignal_list.copy()\n",
    "print(\"Orignal List: \", orignal_list)\n",
    "print(\"Copy List: \",copy_list)\n"
   ]
  },
  {
   "cell_type": "markdown",
   "metadata": {},
   "source": [
    "Q4) Write a Python program to remove 1st 3rd and 5th element from a list and \n",
    "return the list"
   ]
  },
  {
   "cell_type": "code",
   "execution_count": 12,
   "metadata": {},
   "outputs": [
    {
     "name": "stdout",
     "output_type": "stream",
     "text": [
      "[2, 6]\n"
     ]
    }
   ],
   "source": [
    "list_1 = [1,2,4,6,8]\n",
    "list_1.remove(1)\n",
    "list_1.remove(4)\n",
    "list_1.remove(8)\n",
    "print(list_1)\n",
    "\n",
    "\n"
   ]
  },
  {
   "cell_type": "code",
   "execution_count": null,
   "metadata": {},
   "outputs": [],
   "source": []
  }
 ],
 "metadata": {
  "kernelspec": {
   "display_name": "Python 3",
   "language": "python",
   "name": "python3"
  },
  "language_info": {
   "codemirror_mode": {
    "name": "ipython",
    "version": 3
   },
   "file_extension": ".py",
   "mimetype": "text/x-python",
   "name": "python",
   "nbconvert_exporter": "python",
   "pygments_lexer": "ipython3",
   "version": "3.7.3"
  }
 },
 "nbformat": 4,
 "nbformat_minor": 2
}
