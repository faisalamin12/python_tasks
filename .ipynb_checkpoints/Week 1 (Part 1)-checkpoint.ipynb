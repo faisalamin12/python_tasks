{
 "cells": [
  {
   "cell_type": "markdown",
   "metadata": {},
   "source": [
    "# Exercise # 1 :\n",
    "\n",
    "Take two int values from user and print greatest among them."
   ]
  },
  {
   "cell_type": "code",
   "execution_count": 6,
   "metadata": {},
   "outputs": [
    {
     "name": "stdout",
     "output_type": "stream",
     "text": [
      "Enter a number: 4\n",
      "Enter Second Number: 6\n",
      "6 is greater than 4\n"
     ]
    }
   ],
   "source": [
    "a = int(input(\"Enter a number: \"))\n",
    "b = int(input(\"Enter Second Number: \"))\n",
    "\n",
    "if a > b:\n",
    "    print(\"{} is greater than {}\".format(a,b))\n",
    "else:\n",
    "    print(\"{} is greater than {}\".format(b,a))\n",
    "\n",
    "    \n",
    "\n"
   ]
  },
  {
   "cell_type": "markdown",
   "metadata": {},
   "source": [
    "# Exercise # 2:\n",
    "\n",
    "Take input of age of 3 people by user and determine oldest among them.\n"
   ]
  },
  {
   "cell_type": "code",
   "execution_count": 41,
   "metadata": {},
   "outputs": [
    {
     "name": "stdout",
     "output_type": "stream",
     "text": [
      "Enter First Age: 22\n",
      "Enter Second Age: 21\n",
      "Enter Third Age: 26\n",
      "26 is oldest\n"
     ]
    }
   ],
   "source": [
    "age1 = int(input(\"Enter First Age: \"))\n",
    "age2 = int(input(\"Enter Second Age: \"))\n",
    "age3 = int(input(\"Enter Third Age: \"))\n",
    "\n",
    "if age1 > age2 and age1 > age3:\n",
    "    print(\"{} is oldest\".format(age1))\n",
    "elif age2 > age1 and age2 > age3:\n",
    "    print(\"{} is oldest\".format(age2))\n",
    "else:\n",
    "    print(\"{} is oldest\".format(age3))\n",
    "    "
   ]
  },
  {
   "cell_type": "markdown",
   "metadata": {},
   "source": [
    "# Exercise 3: \n",
    "\n",
    "Take values of length and breadth of a rectangle from user and check if it is \n",
    "square or not."
   ]
  },
  {
   "cell_type": "code",
   "execution_count": 7,
   "metadata": {},
   "outputs": [
    {
     "name": "stdout",
     "output_type": "stream",
     "text": [
      "Enter the Length of the shape: 12\n",
      "Enter the breadth of the shape: 12\n",
      "it is a suqare\n"
     ]
    }
   ],
   "source": [
    "length = int(input(\"Enter the Length of the shape: \"))\n",
    "breadth = int(input(\"Enter the breadth of the shape: \"))\n",
    "\n",
    "if length == breadth:\n",
    "    print(\"it is a suqare\")\n",
    "else:\n",
    "    print(\"it is not  a suqare\")\n"
   ]
  },
  {
   "cell_type": "markdown",
   "metadata": {},
   "source": [
    "# Exercise # 4:\n",
    "\n",
    "A shop will give discount of 10% if the cost of purchased quantity is more than 1000. Ask user for quantity Suppose, one unit will cost 100. \n",
    "Judge and print total cost for user."
   ]
  },
  {
   "cell_type": "code",
   "execution_count": 40,
   "metadata": {},
   "outputs": [
    {
     "name": "stdout",
     "output_type": "stream",
     "text": [
      "Enter Qunatity: 2\n",
      "Your Bill 200\n"
     ]
    }
   ],
   "source": [
    "quantity = int(input(\"Enter Qunatity: \"))\n",
    "\n",
    "total_price = 100 * quantity\n",
    "\n",
    "\n",
    "if total_price > 1000:\n",
    "    total_price = total_price * 0.9\n",
    "    print(\"Your Bill {}\".format(total_price))\n",
    "else:\n",
    "    print(\"Your Bill {}\".format(total_price))"
   ]
  },
  {
   "cell_type": "markdown",
   "metadata": {},
   "source": [
    "# Exercise # 5:\n",
    "\n",
    "\n",
    "A company decided to give bonus of 5% to employee if his/her year of service is\n",
    "more than 5 years. Ask user for their salary and year of service and\n",
    "print the net bonus amount."
   ]
  },
  {
   "cell_type": "code",
   "execution_count": 47,
   "metadata": {},
   "outputs": [
    {
     "name": "stdout",
     "output_type": "stream",
     "text": [
      "Enter years of service: 2\n",
      "Your Salary is: 10000\n"
     ]
    }
   ],
   "source": [
    "year_of_service = int(input(\"Enter years of service: \"))\n",
    "salary = 10000\n",
    "\n",
    "if year_of_service > 5:\n",
    "    bonus = 0.5 * salary\n",
    "    salary = bonus + salary \n",
    "    print(\"You got Bonus of 5% Your salary is: {}\".format(salary))\n",
    "else:\n",
    "    print(\"Your Salary is: {}\".format(salary))"
   ]
  },
  {
   "cell_type": "code",
   "execution_count": null,
   "metadata": {},
   "outputs": [],
   "source": []
  }
 ],
 "metadata": {
  "kernelspec": {
   "display_name": "Python 3",
   "language": "python",
   "name": "python3"
  },
  "language_info": {
   "codemirror_mode": {
    "name": "ipython",
    "version": 3
   },
   "file_extension": ".py",
   "mimetype": "text/x-python",
   "name": "python",
   "nbconvert_exporter": "python",
   "pygments_lexer": "ipython3",
   "version": "3.7.3"
  }
 },
 "nbformat": 4,
 "nbformat_minor": 2
}
